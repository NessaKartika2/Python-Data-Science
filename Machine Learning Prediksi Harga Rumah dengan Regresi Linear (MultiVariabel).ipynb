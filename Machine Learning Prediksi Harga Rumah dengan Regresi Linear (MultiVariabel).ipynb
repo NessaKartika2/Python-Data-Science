{
 "cells": [
  {
   "cell_type": "code",
   "execution_count": 1,
   "id": "c7fae34d",
   "metadata": {},
   "outputs": [
    {
     "data": {
      "text/html": [
       "<div>\n",
       "<style scoped>\n",
       "    .dataframe tbody tr th:only-of-type {\n",
       "        vertical-align: middle;\n",
       "    }\n",
       "\n",
       "    .dataframe tbody tr th {\n",
       "        vertical-align: top;\n",
       "    }\n",
       "\n",
       "    .dataframe thead th {\n",
       "        text-align: right;\n",
       "    }\n",
       "</style>\n",
       "<table border=\"1\" class=\"dataframe\">\n",
       "  <thead>\n",
       "    <tr style=\"text-align: right;\">\n",
       "      <th></th>\n",
       "      <th>luas</th>\n",
       "      <th>harga</th>\n",
       "    </tr>\n",
       "  </thead>\n",
       "  <tbody>\n",
       "    <tr>\n",
       "      <th>0</th>\n",
       "      <td>120</td>\n",
       "      <td>130000000</td>\n",
       "    </tr>\n",
       "    <tr>\n",
       "      <th>1</th>\n",
       "      <td>135</td>\n",
       "      <td>148000000</td>\n",
       "    </tr>\n",
       "    <tr>\n",
       "      <th>2</th>\n",
       "      <td>140</td>\n",
       "      <td>160000000</td>\n",
       "    </tr>\n",
       "    <tr>\n",
       "      <th>3</th>\n",
       "      <td>180</td>\n",
       "      <td>210000000</td>\n",
       "    </tr>\n",
       "    <tr>\n",
       "      <th>4</th>\n",
       "      <td>220</td>\n",
       "      <td>285000000</td>\n",
       "    </tr>\n",
       "  </tbody>\n",
       "</table>\n",
       "</div>"
      ],
      "text/plain": [
       "   luas      harga\n",
       "0   120  130000000\n",
       "1   135  148000000\n",
       "2   140  160000000\n",
       "3   180  210000000\n",
       "4   220  285000000"
      ]
     },
     "execution_count": 1,
     "metadata": {},
     "output_type": "execute_result"
    }
   ],
   "source": [
    "import pandas as pd\n",
    "import numpy as np\n",
    "from sklearn import linear_model\n",
    "\n",
    "df = pd.read_csv('datarumah.csv')\n",
    "df"
   ]
  },
  {
   "cell_type": "markdown",
   "id": "6ed4b2c2",
   "metadata": {},
   "source": [
    "DATA PREPROCESSING\n",
    "MERAPIKAN DATA, MENGISI DATA YANG HILANG\n",
    "\n",
    "at untuk mengisi value (0), index ke=2, kolom kamar tidur\n",
    "cell yang kosong diisi degan nilai 0 terlebih dahulu"
   ]
  },
  {
   "cell_type": "code",
   "execution_count": 2,
   "id": "a460c600",
   "metadata": {},
   "outputs": [
    {
     "data": {
      "text/html": [
       "<div>\n",
       "<style scoped>\n",
       "    .dataframe tbody tr th:only-of-type {\n",
       "        vertical-align: middle;\n",
       "    }\n",
       "\n",
       "    .dataframe tbody tr th {\n",
       "        vertical-align: top;\n",
       "    }\n",
       "\n",
       "    .dataframe thead th {\n",
       "        text-align: right;\n",
       "    }\n",
       "</style>\n",
       "<table border=\"1\" class=\"dataframe\">\n",
       "  <thead>\n",
       "    <tr style=\"text-align: right;\">\n",
       "      <th></th>\n",
       "      <th>luas</th>\n",
       "      <th>harga</th>\n",
       "      <th>kamartidur</th>\n",
       "    </tr>\n",
       "  </thead>\n",
       "  <tbody>\n",
       "    <tr>\n",
       "      <th>0</th>\n",
       "      <td>120</td>\n",
       "      <td>130000000</td>\n",
       "      <td>NaN</td>\n",
       "    </tr>\n",
       "    <tr>\n",
       "      <th>1</th>\n",
       "      <td>135</td>\n",
       "      <td>148000000</td>\n",
       "      <td>NaN</td>\n",
       "    </tr>\n",
       "    <tr>\n",
       "      <th>2</th>\n",
       "      <td>140</td>\n",
       "      <td>160000000</td>\n",
       "      <td>0.0</td>\n",
       "    </tr>\n",
       "    <tr>\n",
       "      <th>3</th>\n",
       "      <td>180</td>\n",
       "      <td>210000000</td>\n",
       "      <td>NaN</td>\n",
       "    </tr>\n",
       "    <tr>\n",
       "      <th>4</th>\n",
       "      <td>220</td>\n",
       "      <td>285000000</td>\n",
       "      <td>NaN</td>\n",
       "    </tr>\n",
       "  </tbody>\n",
       "</table>\n",
       "</div>"
      ],
      "text/plain": [
       "   luas      harga  kamartidur\n",
       "0   120  130000000         NaN\n",
       "1   135  148000000         NaN\n",
       "2   140  160000000         0.0\n",
       "3   180  210000000         NaN\n",
       "4   220  285000000         NaN"
      ]
     },
     "execution_count": 2,
     "metadata": {},
     "output_type": "execute_result"
    }
   ],
   "source": [
    "df.at[2,'kamartidur']=0\n",
    "df"
   ]
  },
  {
   "cell_type": "markdown",
   "id": "21a90f60",
   "metadata": {},
   "source": [
    "Mengganti nilai 0 menjadi NaN (Not A Number)\n"
   ]
  },
  {
   "cell_type": "code",
   "execution_count": 3,
   "id": "8e54557b",
   "metadata": {},
   "outputs": [
    {
     "data": {
      "text/html": [
       "<div>\n",
       "<style scoped>\n",
       "    .dataframe tbody tr th:only-of-type {\n",
       "        vertical-align: middle;\n",
       "    }\n",
       "\n",
       "    .dataframe tbody tr th {\n",
       "        vertical-align: top;\n",
       "    }\n",
       "\n",
       "    .dataframe thead th {\n",
       "        text-align: right;\n",
       "    }\n",
       "</style>\n",
       "<table border=\"1\" class=\"dataframe\">\n",
       "  <thead>\n",
       "    <tr style=\"text-align: right;\">\n",
       "      <th></th>\n",
       "      <th>luas</th>\n",
       "      <th>harga</th>\n",
       "      <th>kamartidur</th>\n",
       "    </tr>\n",
       "  </thead>\n",
       "  <tbody>\n",
       "    <tr>\n",
       "      <th>0</th>\n",
       "      <td>120</td>\n",
       "      <td>130000000</td>\n",
       "      <td>NaN</td>\n",
       "    </tr>\n",
       "    <tr>\n",
       "      <th>1</th>\n",
       "      <td>135</td>\n",
       "      <td>148000000</td>\n",
       "      <td>NaN</td>\n",
       "    </tr>\n",
       "    <tr>\n",
       "      <th>2</th>\n",
       "      <td>140</td>\n",
       "      <td>160000000</td>\n",
       "      <td>NaN</td>\n",
       "    </tr>\n",
       "    <tr>\n",
       "      <th>3</th>\n",
       "      <td>180</td>\n",
       "      <td>210000000</td>\n",
       "      <td>NaN</td>\n",
       "    </tr>\n",
       "    <tr>\n",
       "      <th>4</th>\n",
       "      <td>220</td>\n",
       "      <td>285000000</td>\n",
       "      <td>NaN</td>\n",
       "    </tr>\n",
       "  </tbody>\n",
       "</table>\n",
       "</div>"
      ],
      "text/plain": [
       "   luas      harga  kamartidur\n",
       "0   120  130000000         NaN\n",
       "1   135  148000000         NaN\n",
       "2   140  160000000         NaN\n",
       "3   180  210000000         NaN\n",
       "4   220  285000000         NaN"
      ]
     },
     "execution_count": 3,
     "metadata": {},
     "output_type": "execute_result"
    }
   ],
   "source": [
    "df.replace(0, np.nan, inplace=True)\n",
    "df"
   ]
  },
  {
   "cell_type": "markdown",
   "id": "f147bea7",
   "metadata": {},
   "source": [
    "mencari nilai median dari kolom kamar tidur"
   ]
  },
  {
   "cell_type": "code",
   "execution_count": 4,
   "id": "75ae285e",
   "metadata": {},
   "outputs": [
    {
     "data": {
      "text/plain": [
       "nan"
      ]
     },
     "execution_count": 4,
     "metadata": {},
     "output_type": "execute_result"
    }
   ],
   "source": [
    "df.kamartidur.median()"
   ]
  },
  {
   "cell_type": "markdown",
   "id": "94b9bd7b",
   "metadata": {},
   "source": [
    "membulatkan nilai kebawah "
   ]
  },
  {
   "cell_type": "code",
   "execution_count": 5,
   "id": "f61666c6",
   "metadata": {},
   "outputs": [
    {
     "ename": "ValueError",
     "evalue": "cannot convert float NaN to integer",
     "output_type": "error",
     "traceback": [
      "\u001b[1;31m---------------------------------------------------------------------------\u001b[0m",
      "\u001b[1;31mValueError\u001b[0m                                Traceback (most recent call last)",
      "\u001b[1;32m~\\AppData\\Local\\Temp\\ipykernel_8200\\3716766545.py\u001b[0m in \u001b[0;36m<module>\u001b[1;34m\u001b[0m\n\u001b[0;32m      1\u001b[0m \u001b[1;32mimport\u001b[0m \u001b[0mmath\u001b[0m\u001b[1;33m\u001b[0m\u001b[1;33m\u001b[0m\u001b[0m\n\u001b[1;32m----> 2\u001b[1;33m \u001b[0mnilai_median_kamartidur\u001b[0m \u001b[1;33m=\u001b[0m \u001b[0mmath\u001b[0m\u001b[1;33m.\u001b[0m\u001b[0mfloor\u001b[0m\u001b[1;33m(\u001b[0m\u001b[0mdf\u001b[0m\u001b[1;33m.\u001b[0m\u001b[0mkamartidur\u001b[0m\u001b[1;33m.\u001b[0m\u001b[0mmedian\u001b[0m\u001b[1;33m(\u001b[0m\u001b[1;33m)\u001b[0m\u001b[1;33m)\u001b[0m\u001b[1;33m\u001b[0m\u001b[1;33m\u001b[0m\u001b[0m\n\u001b[0m\u001b[0;32m      3\u001b[0m \u001b[0mnilai_median_kamartidur\u001b[0m\u001b[1;33m\u001b[0m\u001b[1;33m\u001b[0m\u001b[0m\n",
      "\u001b[1;31mValueError\u001b[0m: cannot convert float NaN to integer"
     ]
    }
   ],
   "source": [
    "import math\n",
    "nilai_median_kamartidur = math.floor(df.kamartidur.median())\n",
    "nilai_median_kamartidur"
   ]
  },
  {
   "cell_type": "markdown",
   "id": "edec40b4",
   "metadata": {},
   "source": [
    "fillna untuk mengganti Nan Value"
   ]
  },
  {
   "cell_type": "code",
   "execution_count": null,
   "id": "247c7075",
   "metadata": {},
   "outputs": [],
   "source": [
    "df.kamartidur.fillna(nilai_median_kamartidur)\n"
   ]
  },
  {
   "cell_type": "markdown",
   "id": "320262a9",
   "metadata": {},
   "source": [
    "menampilkan value yang baru ke dalam dataframe"
   ]
  },
  {
   "cell_type": "code",
   "execution_count": null,
   "id": "2ff96d6d",
   "metadata": {},
   "outputs": [],
   "source": [
    "df.kamartidur = df.kamartidur.fillna(nilai_median_kamartidur)\n",
    "df"
   ]
  },
  {
   "cell_type": "markdown",
   "id": "48fdc4fe",
   "metadata": {},
   "source": [
    "Modul Regresi Linear"
   ]
  },
  {
   "cell_type": "code",
   "execution_count": null,
   "id": "406f3329",
   "metadata": {},
   "outputs": [],
   "source": [
    "reg = linear_model.LinearRegression()\n",
    "reg.fit(df[['luas','kamartidur','kamarmandi']],df.harga)"
   ]
  },
  {
   "cell_type": "markdown",
   "id": "88109bb8",
   "metadata": {},
   "source": [
    "Menampilkan nilai slope (jika dibutuhkan)"
   ]
  },
  {
   "cell_type": "code",
   "execution_count": null,
   "id": "ce7d6bbb",
   "metadata": {},
   "outputs": [],
   "source": [
    "reg.coef_"
   ]
  },
  {
   "cell_type": "markdown",
   "id": "732938b5",
   "metadata": {},
   "source": [
    "menampilkan nilai intersep (jika dibutuhkan)"
   ]
  },
  {
   "cell_type": "code",
   "execution_count": null,
   "id": "b907ab74",
   "metadata": {},
   "outputs": [],
   "source": [
    "reg.intercept_"
   ]
  },
  {
   "cell_type": "markdown",
   "id": "bb3e924f",
   "metadata": {},
   "source": [
    "prediksi"
   ]
  },
  {
   "cell_type": "code",
   "execution_count": null,
   "id": "ee1f6ee9",
   "metadata": {},
   "outputs": [],
   "source": [
    "int(reg.predict([[245,7,7]]))"
   ]
  },
  {
   "cell_type": "markdown",
   "id": "0bfa23aa",
   "metadata": {},
   "source": [
    "Pembuktian"
   ]
  },
  {
   "cell_type": "code",
   "execution_count": null,
   "id": "24201def",
   "metadata": {},
   "outputs": [],
   "source": [
    "1492322.09737828*245+-1900749.06367041*7+4544943.82022472*7+-58148876.404494345"
   ]
  }
 ],
 "metadata": {
  "kernelspec": {
   "display_name": "Python 3 (ipykernel)",
   "language": "python",
   "name": "python3"
  },
  "language_info": {
   "codemirror_mode": {
    "name": "ipython",
    "version": 3
   },
   "file_extension": ".py",
   "mimetype": "text/x-python",
   "name": "python",
   "nbconvert_exporter": "python",
   "pygments_lexer": "ipython3",
   "version": "3.9.13"
  }
 },
 "nbformat": 4,
 "nbformat_minor": 5
}
